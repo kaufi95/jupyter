{
 "cells": [
  {
   "cell_type": "markdown",
   "id": "b5d0fe83-cdee-4002-8454-77fc836f0fc5",
   "metadata": {
    "nbgrader": {
     "grade": false,
     "grade_id": "cell-a211b45c04f9f7d3",
     "locked": true,
     "schema_version": 3,
     "solution": false,
     "task": false
    },
    "tags": []
   },
   "source": [
    "## Bestimmen des Maximums (2 Punkte)\n",
    "\n",
    "Gegeben ist ein Feld von Ganzzahlenwerten. Die Werte werden mittels einer Initialisierungsliste festgelegt d.h. int values[] = { 3, 5, 10, 2, 1 };\n",
    "\n",
    "Entwickeln Sie eine C-Funktion, die den größten Wert bestimmt und als Ergebnis zurückliefert"
   ]
  },
  {
   "cell_type": "code",
   "execution_count": 1,
   "id": "020233b5-558c-46b0-974e-8d1f2cd0e91b",
   "metadata": {
    "nbgrader": {
     "grade": false,
     "grade_id": "cell-f3ae4d1d5998b0b9",
     "locked": false,
     "schema_version": 3,
     "solution": true,
     "task": false
    },
    "tags": []
   },
   "outputs": [],
   "source": [
    "int determineMaxValue(int values[], int nrOfValues) {\n",
    "\n",
    "    // BEGIN SOLUTION\n",
    "    \n",
    "    int maxValue = values[0];\n",
    "    \n",
    "    for (int i = 1; i < nrOfValues; i++) {\n",
    "        if (values[i] > maxValue) maxValue = values[i];\n",
    "    }\n",
    "    \n",
    "    // END SOLUTION\n",
    "\n",
    "    return maxValue;\n",
    "}"
   ]
  },
  {
   "cell_type": "code",
   "execution_count": 2,
   "id": "e4d763c4-e815-4776-9e78-4a257379a71d",
   "metadata": {
    "nbgrader": {
     "grade": true,
     "grade_id": "cell-bb675e6213600ce3",
     "locked": true,
     "points": 0,
     "schema_version": 3,
     "solution": false,
     "task": false
    },
    "tags": []
   },
   "outputs": [
    {
     "name": "stdout",
     "output_type": "stream",
     "text": [
      "All tests passed! :)"
     ]
    }
   ],
   "source": [
    "int values[] = {2, 4, 17, 2, 299, 0, -1, 3};\n",
    "int nrOfValues = 8;\n",
    "\n",
    "if (determineMaxValue(values, 8) != 299) {\n",
    "    throw std::logic_error(\"Rules not correct implemented\\n\");\n",
    "}\n",
    "\n",
    "// BEGIN HIDDEN TESTS\n",
    "\n",
    "int values1[] = {2};\n",
    "int nrOfValues1 = 1;\n",
    "\n",
    "if (determineMaxValue(values1, nrOfValues1) != 2) {\n",
    "    throw std::logic_error(\"Rules not correct implemented\\n\");\n",
    "}\n",
    "\n",
    "int values2[] = {-3, -2, -100, 0};\n",
    "int nrOfValues2 = 4;\n",
    "\n",
    "if (determineMaxValue(values2, nrOfValues2) != 0) {\n",
    "    throw std::logic_error(\"Rules not correct implemented\\n\");\n",
    "}\n",
    "\n",
    "int values3[] = {-3, -2, -100, 0, -10110, 10, 4711, 51002};\n",
    "int nrOfValues3 = 8;\n",
    "\n",
    "if (determineMaxValue(values3, nrOfValues3) != 51002) {\n",
    "    throw std::logic_error(\"Rules not correct implemented\\n\");\n",
    "}\n",
    "\n",
    "// END HIDDEN TESTS\n",
    "\n",
    "printf(\"All tests passed! :)\");"
   ]
  },
  {
   "cell_type": "code",
   "execution_count": null,
   "id": "39c6cd93-80af-40c6-84a0-bc595f1f2b0c",
   "metadata": {},
   "outputs": [],
   "source": [
    "// place your tests here (students; is it working?)"
   ]
  }
 ],
 "metadata": {
  "kernelspec": {
   "display_name": "C++11",
   "language": "C++11",
   "name": "xcpp11"
  },
  "language_info": {
   "codemirror_mode": "text/x-c++src",
   "file_extension": ".cpp",
   "mimetype": "text/x-c++src",
   "name": "c++",
   "version": "11"
  }
 },
 "nbformat": 4,
 "nbformat_minor": 5
}
