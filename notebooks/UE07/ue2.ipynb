{
 "cells": [
  {
   "cell_type": "markdown",
   "id": "b5d0fe83-cdee-4002-8454-77fc836f0fc5",
   "metadata": {
    "nbgrader": {
     "grade": false,
     "grade_id": "cell-a211b45c04f9f7d3",
     "locked": true,
     "schema_version": 3,
     "solution": false,
     "task": false
    },
    "tags": []
   },
   "source": [
    "## Summenbildung - Erweiterung 1 (2 Punkte)\n",
    "\n",
    "Entwickeln Sie auf der Basis von Aufgabe 1 eine C-Funktion, die nur die geraden Zahlen, also jene, die ganzzahlig durch 2 ganzzahlig geteilt werden können, zusammengezählt und das Ergebnis zurückliefert."
   ]
  },
  {
   "cell_type": "code",
   "execution_count": 1,
   "id": "020233b5-558c-46b0-974e-8d1f2cd0e91b",
   "metadata": {
    "nbgrader": {
     "grade": false,
     "grade_id": "cell-f3ae4d1d5998b0b9",
     "locked": false,
     "schema_version": 3,
     "solution": true,
     "task": false
    },
    "tags": []
   },
   "outputs": [],
   "source": [
    "int calculateSum(int maxValue) {\n",
    "\n",
    "    // BEGIN SOLUTION\n",
    "    \n",
    "    int res = 0;\n",
    "\n",
    "    for (int i = 1; i <= maxValue; i++) {\n",
    "        if (i % 2 == 0) res += i;\n",
    "    }\n",
    "\n",
    "    // END SOLUTION\n",
    "\n",
    "    return res;\n",
    "}"
   ]
  },
  {
   "cell_type": "code",
   "execution_count": 2,
   "id": "e4d763c4-e815-4776-9e78-4a257379a71d",
   "metadata": {
    "nbgrader": {
     "grade": true,
     "grade_id": "cell-bb675e6213600ce3",
     "locked": true,
     "points": 0,
     "schema_version": 3,
     "solution": false,
     "task": false
    },
    "tags": []
   },
   "outputs": [
    {
     "name": "stdout",
     "output_type": "stream",
     "text": [
      "All tests passed! :)"
     ]
    }
   ],
   "source": [
    "if (calculateSum(5) != 6) {\n",
    "    throw std::logic_error(\"Rules not correct implemented\\n\");\n",
    "}\n",
    "\n",
    "// BEGIN HIDDEN TESTS\n",
    "\n",
    "if (calculateSum(47) != 552) {\n",
    "    throw std::logic_error(\"Rules not correct implemented\\n\");\n",
    "}\n",
    "\n",
    "if (calculateSum(0) != 0) {\n",
    "    throw std::logic_error(\"Rules not correct implemented\\n\");\n",
    "}\n",
    "\n",
    "if (calculateSum(-1) != 0) {\n",
    "    throw std::logic_error(\"Rules not correct implemented\\n\");\n",
    "}\n",
    "\n",
    "// END HIDDEN TESTS\n",
    "\n",
    "printf(\"All tests passed! :)\");"
   ]
  },
  {
   "cell_type": "code",
   "execution_count": null,
   "id": "39c6cd93-80af-40c6-84a0-bc595f1f2b0c",
   "metadata": {},
   "outputs": [],
   "source": [
    "// place your tests here (students; is it working?)"
   ]
  }
 ],
 "metadata": {
  "kernelspec": {
   "display_name": "C++11",
   "language": "C++11",
   "name": "xcpp11"
  },
  "language_info": {
   "codemirror_mode": "text/x-c++src",
   "file_extension": ".cpp",
   "mimetype": "text/x-c++src",
   "name": "c++",
   "version": "11"
  }
 },
 "nbformat": 4,
 "nbformat_minor": 5
}
