{
 "cells": [
  {
   "cell_type": "markdown",
   "id": "b5d0fe83-cdee-4002-8454-77fc836f0fc5",
   "metadata": {
    "nbgrader": {
     "grade": false,
     "grade_id": "cell-a211b45c04f9f7d3",
     "locked": true,
     "schema_version": 3,
     "solution": false,
     "task": false
    },
    "tags": []
   },
   "source": [
    "## Näherungsweise Berechnung der Quadratwurzel (6 Punkte)\n",
    "\n",
    "Die Quadratwurzel y = $\\sqrt{x}$ kann mit dem Newtonschen Näherungsverfahren für x ≥ 0 wie folgt berechnet werden:\n",
    "\n",
    "y0 = x/2 und yn = 1/2 ( yn-1 + x / yn-1), für n > 0\n",
    "\n",
    "Gesucht ist eine C-Funktion, die mit Hilfe des Näherungsverfahrens eine Lösung für die Quadratwurzel von x liefert, sodass gilt | yn – yn-1 | < eps\n",
    "\n",
    "Achten Sie auf den sinnvollen Einsatz von Funktionen."
   ]
  },
  {
   "cell_type": "code",
   "execution_count": 10,
   "id": "a1330ef5-29d1-4fcf-a774-42ee780942b1",
   "metadata": {
    "nbgrader": {
     "grade": false,
     "grade_id": "cell-1e48183d3dc3f523",
     "locked": false,
     "schema_version": 3,
     "solution": true,
     "task": false
    },
    "tags": []
   },
   "outputs": [],
   "source": [
    "double absolut (double x) {\n",
    "    if (x < 0) {\n",
    "        x = x * (-1);\n",
    "    }\n",
    "    return x;\n",
    "}"
   ]
  },
  {
   "cell_type": "code",
   "execution_count": 11,
   "id": "020233b5-558c-46b0-974e-8d1f2cd0e91b",
   "metadata": {
    "nbgrader": {
     "grade": false,
     "grade_id": "cell-f3ae4d1d5998b0b9",
     "locked": false,
     "schema_version": 3,
     "solution": true,
     "task": false
    }
   },
   "outputs": [],
   "source": [
    "double root(double x, double eps) {\n",
    "\n",
    "    // BEGIN SOLUTION\n",
    "\n",
    "    double yNew;\n",
    "    double yOld = x / 2;\n",
    "    double diff = 0;\n",
    "\n",
    "    do {\n",
    "        yNew = (yOld + x / yOld) / 2;\n",
    "        diff = yNew - yOld;\n",
    "        diff = absolut (diff);\n",
    "        yOld = yNew;\n",
    "    } while (diff > eps);\n",
    "\n",
    "    // END SOLUTION\n",
    "    \n",
    "    return yNew;\n",
    "}"
   ]
  },
  {
   "cell_type": "code",
   "execution_count": 20,
   "id": "e4d763c4-e815-4776-9e78-4a257379a71d",
   "metadata": {
    "nbgrader": {
     "grade": true,
     "grade_id": "cell-bb675e6213600ce3",
     "locked": true,
     "points": 6,
     "schema_version": 3,
     "solution": false,
     "task": false
    },
    "tags": []
   },
   "outputs": [
    {
     "name": "stdout",
     "output_type": "stream",
     "text": [
      "All tests passed! :)"
     ]
    }
   ],
   "source": [
    "if ((std::round(root(100, 1.0E-10) * 1000.0) / 1000.0) != 10) {\n",
    "    throw std::logic_error(\"Rules not correct implemented\\n\");\n",
    "}\n",
    "\n",
    "if ((std::round(root(3.3, 1.0E-10) * 1000.0) / 1000.0) != 1.817) {\n",
    "    throw std::logic_error(\"Rules not correct implemented\\n\");\n",
    "}\n",
    "\n",
    "// BEGIN HIDDEN TESTS\n",
    "\n",
    "if ((std::round(root(17.9, 1.0E-23) * 1000.0) / 1000.0) != 4.231) {\n",
    "    throw std::logic_error(\"Rules not correct implemented\\n\");\n",
    "}\n",
    "\n",
    "if ((std::round(root(1, 1.0E-10) * 1000.0) / 1000.0) != 1) {\n",
    "    throw std::logic_error(\"Rules not correct implemented3\\n\");\n",
    "}\n",
    "\n",
    "if ((std::round(root(99, 1.0E-15) * 1000.0) / 1000.0) != 9.950) {\n",
    "    throw std::logic_error(\"Rules not correct implemented4\\n\");\n",
    "}\n",
    "\n",
    "// END HIDDEN TESTS\n",
    "\n",
    "printf(\"All tests passed! :)\");"
   ]
  },
  {
   "cell_type": "code",
   "execution_count": null,
   "id": "39c6cd93-80af-40c6-84a0-bc595f1f2b0c",
   "metadata": {},
   "outputs": [],
   "source": [
    "// place your tests here (students)"
   ]
  }
 ],
 "metadata": {
  "kernelspec": {
   "display_name": "C++11",
   "language": "C++11",
   "name": "xcpp11"
  },
  "language_info": {
   "codemirror_mode": "text/x-c++src",
   "file_extension": ".cpp",
   "mimetype": "text/x-c++src",
   "name": "c++",
   "version": "11"
  }
 },
 "nbformat": 4,
 "nbformat_minor": 5
}
