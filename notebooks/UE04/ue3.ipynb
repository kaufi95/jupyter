{
 "cells": [
  {
   "attachments": {
    "c0b7e075-d8df-47f5-b47b-eb98e953a8c2.png": {
     "image/png": "[encoded data removed]"
    }
   },
   "cell_type": "markdown",
   "id": "5879a443-f60d-4226-a35d-df1748247f58",
   "metadata": {},
   "source": [
    "## Entfernen von negativen Werten ( 6 Punkte ) WIP!\n",
    "\n",
    "In einem Feld sind Ganzzahlenwerte gespeichert. Entwickeln Sie einen Algorithmus, der alle negativen Ganzzahlen aus dem Feld entfernt und das Ergebnis anschließend ausgibt.\n",
    "\n",
    "Durch das Entfernen der Werte dürfen keine Lücken im Ganzzahlenfeld entstehen. Zusätzlich zur Umorganisation soll auch die Anzahl der positiven Werte bestimmt werden. 0 zählt zu den positiven Zahlen.\n",
    "\n",
    "### Beispiel:\n",
    "\n",
    "![Screenshot 2023-04-27 at 16.00.11.png](attachment:c0b7e075-d8df-47f5-b47b-eb98e953a8c2.png)"
   ]
  },
  {
   "cell_type": "code",
   "execution_count": 22,
   "id": "020233b5-558c-46b0-974e-8d1f2cd0e91b",
   "metadata": {
    "nbgrader": {
     "grade": false,
     "grade_id": "cell-f3ae4d1d5998b0b9",
     "locked": false,
     "schema_version": 3,
     "solution": true,
     "task": false
    }
   },
   "outputs": [
    {
     "name": "stderr",
     "output_type": "stream",
     "text": [
      "input_line_31:2:43: error: brackets are not allowed here; to declare an array, place the brackets after the name\n",
      " int[] removeNegativeValues(int numbers[]) {\n",
      "    ~~                                    ^\n",
      "                                          []\n",
      "input_line_31:2:44: error: function definition is not allowed here\n",
      " int[] removeNegativeValues(int numbers[]) {\n",
      "                                           ^\n"
     ]
    },
    {
     "ename": "Interpreter Error",
     "evalue": "",
     "output_type": "error",
     "traceback": [
      "Interpreter Error: "
     ]
    }
   ],
   "source": [
    "int removeNegativeValues(int numbers[]) {\n",
    "        \n",
    "    // BEGIN SOLUTION\n",
    "    \n",
    "    //make new array for result\n",
    "    int result[length];\n",
    "    \n",
    "    //printf(\"result.length: %d\", result.size());\n",
    "\n",
    "    //make a counter for positive values\n",
    "    int counter = 0;\n",
    "\n",
    "    //loop over input array, count if value is positive and write it to the result array\n",
    "    for (int i = 0; i < length; i++) {\n",
    "        if (numbers[i] >= 0) {\n",
    "            result[counter] = numbers[i];\n",
    "            counter++;\n",
    "        }\n",
    "    }\n",
    "    \n",
    "    //print the result\n",
    "    for (int i = 0; i < counter; i++) {\n",
    "        printf(\"%d\", result[i]);\n",
    "    }\n",
    "    printf(\"\\n\");\n",
    "\n",
    "    // END SOLUTION\n",
    "    return result;\n",
    "}"
   ]
  },
  {
   "cell_type": "code",
   "execution_count": 23,
   "id": "e4d763c4-e815-4776-9e78-4a257379a71d",
   "metadata": {
    "nbgrader": {
     "grade": true,
     "grade_id": "cell-bb675e6213600ce3",
     "locked": true,
     "points": 0,
     "schema_version": 3,
     "solution": false,
     "task": false
    },
    "tags": []
   },
   "outputs": [
    {
     "name": "stderr",
     "output_type": "stream",
     "text": [
      "input_line_32:3:5: error: array initializer must be an initializer list\n",
      "int res[] = removeNegativeValues(testNumbers, 8);\n",
      "    ^\n"
     ]
    },
    {
     "ename": "Interpreter Error",
     "evalue": "",
     "output_type": "error",
     "traceback": [
      "Interpreter Error: "
     ]
    }
   ],
   "source": [
    "int testNumbers[] = {1, -4, 3, 5, -1, -2, 8, -5};\n",
    "\n",
    "int res[] = removeNegativeValues(testNumbers, 8);\n",
    "\n",
    "for (int i : res) printf(\"%d\", i);\n",
    "\n",
    "for (int i : res) {\n",
    "    if (i < 0) throw std::logic_error(\"Rules not correct implemented\\n\");\n",
    "}\n",
    "\n",
    "if (sizeof(res)/sizeof(int) != 4) {\n",
    "    throw std::logic_error(\"Counter not correct\\n\");\n",
    "}\n",
    "\n",
    "// BEGIN HIDDEN TESTS\n",
    "\n",
    "//int testNumbers1[] = {};\n",
    "//removeNegativeValues(&testNumbers1, 0);\n",
    "\n",
    "//int testNumbers2[] = {-1, -4, -3, -5};\n",
    "//removeNegativeValues(&testNumbers2, 5);\n",
    "\n",
    "//int testNumbers3[] = {1, 2, 3, 5};\n",
    "//removeNegativeValues(&testNumbers3, 4);\n",
    "\n",
    "// END HIDDEN TESTS\n",
    "\n",
    "printf(\"All tests passed! :)\");"
   ]
  },
  {
   "cell_type": "code",
   "execution_count": null,
   "id": "39c6cd93-80af-40c6-84a0-bc595f1f2b0c",
   "metadata": {},
   "outputs": [],
   "source": [
    "// place your tests here (students; is it working?)"
   ]
  }
 ],
 "metadata": {
  "kernelspec": {
   "display_name": "C++11",
   "language": "C++11",
   "name": "xcpp11"
  },
  "language_info": {
   "codemirror_mode": "text/x-c++src",
   "file_extension": ".cpp",
   "mimetype": "text/x-c++src",
   "name": "c++",
   "version": "11"
  }
 },
 "nbformat": 4,
 "nbformat_minor": 5
}
