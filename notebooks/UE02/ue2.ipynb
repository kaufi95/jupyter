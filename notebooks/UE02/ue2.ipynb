{
 "cells": [
  {
   "cell_type": "markdown",
   "id": "b5d0fe83-cdee-4002-8454-77fc836f0fc5",
   "metadata": {
    "nbgrader": {
     "grade": false,
     "grade_id": "cell-a211b45c04f9f7d3",
     "locked": true,
     "schema_version": 3,
     "solution": false,
     "task": false
    },
    "tags": []
   },
   "source": [
    "2. Algorithmus zur Schaltjahrbestimmung (6 Punkte) In unserem Kalender sind in regelmäßigen Abständen Schaltjahre eingefügt. Zur exakten Feststellung, ob ein Jahr ein Schaltjahr ist, dienen folgende Regeln:\n",
    "\n",
    "a) Ist die Jahreszahl durch 4 teilbar, so ist das Jahr ein Schaltjahr.\n",
    "b) Regel a) hat allerdings die Ausnahme, dass ein Jahr das durch 100 teilbar ist, kein Schaltjahr ist.\n",
    "c) Regel b) hat allerdings die Ausnahme, dass ein Jahr das durch 400 teilbar ist, doch ein Schaltjahr ist.\n",
    "\n",
    "Entwickeln Sie dafür einen Algorithmus. Verwenden Sie folgedne Signatur: isLeapYear(↓year, ↑isLeapYear)"
   ]
  },
  {
   "cell_type": "code",
   "execution_count": 7,
   "id": "020233b5-558c-46b0-974e-8d1f2cd0e91b",
   "metadata": {
    "nbgrader": {
     "grade": false,
     "grade_id": "cell-f3ae4d1d5998b0b9",
     "locked": false,
     "schema_version": 3,
     "solution": true,
     "task": false
    }
   },
   "outputs": [],
   "source": [
    "bool isLeapYear (int year) {\n",
    "    bool isLeapYear = false;\n",
    "\n",
    "    // BEGIN SOLUTION\n",
    "    \n",
    "    if (year % 4 == 0) {\n",
    "        isLeapYear = true;\n",
    "        if (year % 100 == 0) {\n",
    "            isLeapYear = false;\n",
    "            if (year % 400 == 0) {\n",
    "                isLeapYear = true;\n",
    "            }\n",
    "        }\n",
    "    }\n",
    "\n",
    "    // END SOLUTION\n",
    "    \n",
    "    if (isLeapYear) {\n",
    "        printf(\"%d is a leap year.\\n\", year);\n",
    "    } else {\n",
    "        printf(\"%d is no leap year.\\n\", year);\n",
    "    }\n",
    "    \n",
    "    return isLeapYear;\n",
    "}"
   ]
  },
  {
   "cell_type": "code",
   "execution_count": 8,
   "id": "e4d763c4-e815-4776-9e78-4a257379a71d",
   "metadata": {
    "nbgrader": {
     "grade": true,
     "grade_id": "cell-bb675e6213600ce3",
     "locked": true,
     "points": 0,
     "schema_version": 3,
     "solution": false,
     "task": false
    },
    "tags": []
   },
   "outputs": [
    {
     "name": "stdout",
     "output_type": "stream",
     "text": [
      "2000 is a leap year.\n",
      "2019 is no leap year.\n",
      "2020 is a leap year.\n",
      "All tests passed! :)"
     ]
    }
   ],
   "source": [
    "if (!isLeapYear(2000) == 1) {\n",
    "    throw std::logic_error(\"Rules not correct implemented\\n\");\n",
    "}\n",
    "\n",
    "// BEGIN HIDDEN TESTS\n",
    "\n",
    "if (!isLeapYear(2019) == 0) {\n",
    "    throw std::logic_error(\"Rules not correct implemented\\n\");\n",
    "}\n",
    "\n",
    "if (!isLeapYear(2020) == 1) {\n",
    "    throw std::logic_error(\"Rules not correct implemented\\n\");\n",
    "}\n",
    "\n",
    "// END HIDDEN TESTS\n",
    "\n",
    "printf(\"All tests passed! :)\");"
   ]
  },
  {
   "cell_type": "code",
   "execution_count": null,
   "id": "39c6cd93-80af-40c6-84a0-bc595f1f2b0c",
   "metadata": {},
   "outputs": [],
   "source": [
    "// place for your tests"
   ]
  }
 ],
 "metadata": {
  "kernelspec": {
   "display_name": "C++11",
   "language": "C++11",
   "name": "xcpp11"
  },
  "language_info": {
   "codemirror_mode": "text/x-c++src",
   "file_extension": ".cpp",
   "mimetype": "text/x-c++src",
   "name": "c++",
   "version": "11"
  }
 },
 "nbformat": 4,
 "nbformat_minor": 5
}
