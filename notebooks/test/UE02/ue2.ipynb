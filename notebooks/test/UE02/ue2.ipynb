{
 "cells": [
  {
   "cell_type": "markdown",
   "id": "84f3ea23-d025-4a01-b3f4-fcdce57866d8",
   "metadata": {
    "nbgrader": {
     "grade": false,
     "grade_id": "cell-07ff93baa7403266",
     "locked": true,
     "schema_version": 3,
     "solution": false,
     "task": false
    },
    "tags": []
   },
   "source": [
    "2. Algorithmus zur Schaltjahrbestimmung (6 Punkte)\n",
    "In unserem Kalender sind in regelmäßigen Abständen Schaltjahre eingefügt. Zur exakten Feststellung, ob\n",
    "ein Jahr ein Schaltjahr ist, dienen folgende Regeln:\n",
    "\n",
    "a) Ist die Jahreszahl durch 4 teilbar, so ist das Jahr ein Schaltjahr.\n",
    "b) Regel a) hat allerdings die Ausnahme, dass ein Jahr das durch 100 teilbar ist, kein Schaltjahr ist.\n",
    "c) Regel b) hat allerdings die Ausnahme, dass ein Jahr das durch 400 teilbar ist, doch ein Schaltjahr ist.\n",
    "\n",
    "Entwickeln Sie dafür einen Algorithmus.\n",
    "Verwenden Sie dafür folgedne Signatur: isLeapYear(↓year, ↑isLeapYear)"
   ]
  },
  {
   "cell_type": "code",
   "execution_count": 2,
   "id": "db927583-3cf4-4fba-b97b-fd2fe6f3ed20",
   "metadata": {
    "nbgrader": {
     "grade": false,
     "grade_id": "cell-0b23f7c8abd6c6ea1",
     "locked": false,
     "schema_version": 3,
     "solution": true,
     "task": false
    },
    "tags": []
   },
   "outputs": [],
   "source": [
    "bool isLeapYear (int year) {\n",
    "    bool isLeapYear;\n",
    "\n",
    "    // BEGIN SOLUTION\n",
    "    if (year % 4 == 0) {\n",
    "        isLeapYear = true;\n",
    "        if (year % 100 == 0) {\n",
    "            isLeapYear = false;\n",
    "            if (year % 400 == 0) {\n",
    "                isLeapYear = true;\n",
    "            }\n",
    "        }\n",
    "    }\n",
    "    // END SOLUTION\n",
    "    \n",
    "    return isLeapYear;\n",
    "}"
   ]
  },
  {
   "cell_type": "code",
   "execution_count": 6,
   "id": "321ec799-5d03-44b8-a373-d6b740ee0e43",
   "metadata": {
    "nbgrader": {
     "grade": true,
     "grade_id": "cell-c92cd296fc59db5f",
     "locked": true,
     "points": 6,
     "schema_version": 3,
     "solution": false,
     "task": false
    },
    "tags": []
   },
   "outputs": [
    {
     "name": "stderr",
     "output_type": "stream",
     "text": [
      "input_line_15:2:7: error: cannot initialize a variable of type 'bool' with an rvalue of type 'void'\n",
      " bool value = assert(NULL); \n",
      "      ^       ~~~~~~~~~~~~\n"
     ]
    },
    {
     "ename": "Interpreter Error",
     "evalue": "",
     "output_type": "error",
     "traceback": [
      "Interpreter Error: "
     ]
    }
   ],
   "source": [
    "assert(NULL);\n",
    "assert(isLeapYear(2000) == 1);\n",
    "assert(isLeapYear(2019) == 0);\n",
    "assert(isLeapYear(2020) == 0);\n",
    "\n",
    "int year = 2000;\n",
    "printf(\"%d %s\", year, isLeapYear(year) ? \"is a leapyear\" : \"is no leap year\");"
   ]
  },
  {
   "cell_type": "code",
   "execution_count": null,
   "id": "8accdc66-50b7-41c7-8bca-3fef77207386",
   "metadata": {},
   "outputs": [],
   "source": [
    "std::cout << \"Hello World!\";"
   ]
  },
  {
   "cell_type": "code",
   "execution_count": null,
   "id": "1bdb8ccf-d371-44a5-98b9-5c52bb510ae1",
   "metadata": {},
   "outputs": [],
   "source": []
  }
 ],
 "metadata": {
  "kernelspec": {
   "display_name": "C++17",
   "language": "C++17",
   "name": "xcpp17"
  },
  "language_info": {
   "codemirror_mode": "text/x-c++src",
   "file_extension": ".cpp",
   "mimetype": "text/x-c++src",
   "name": "c++",
   "version": "11"
  },
  "toc-autonumbering": false,
  "toc-showcode": false,
  "toc-showmarkdowntxt": false
 },
 "nbformat": 4,
 "nbformat_minor": 5
}
