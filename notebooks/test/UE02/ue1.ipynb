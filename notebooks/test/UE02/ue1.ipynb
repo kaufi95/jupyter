{
 "cells": [
  {
   "cell_type": "code",
   "execution_count": null,
   "id": "6b43fb4d-f4ec-4e10-a22e-2886f98a0605",
   "metadata": {
    "nbgrader": {
     "grade": false,
     "grade_id": "cell-acb0231ab6321e09",
     "locked": true,
     "schema_version": 3,
     "solution": false,
     "task": false
    },
    "tags": []
   },
   "outputs": [],
   "source": [
    "1. Darstellungsformen von Algorithmen (2 + 3 + 3 Punkte)\n",
    "\n",
    "Gegeben ist als Pseudocode der Euklidsche Algorithmus zur Berechnung\n",
    "des größten gemeinsamen Teilers zweier ganzen Zahlen.\n",
    "\n",
    "GGT(↓x, ↓y, ↑ggT)\n",
    "    \n",
    "    if ((x > 0) and (y > 0)) then\n",
    "    \n",
    "        if (x < y) then\n",
    "            Swap (↕x,↕y) – Vertauschen von x und y\n",
    "        end -- if\n",
    "\n",
    "        while (y != 0) do temp = y\n",
    "            y := x modulo y -- Restwertbestimmung\n",
    "            x := temp\n",
    "        end -- while\n",
    "\n",
    "        ggT = x\n",
    "    else\n",
    "        ggT = -1 end -- if\n",
    "\n",
    "end GGT\n",
    "\n",
    "Führen Sie einen Schreibtischtest für mindestens 3 sinnvolle Angaben durch."
   ]
  },
  {
   "cell_type": "code",
   "execution_count": null,
   "id": "583819a7-7ab0-4af6-b7a0-3c76e5d7cbd5",
   "metadata": {
    "nbgrader": {
     "grade": true,
     "grade_id": "cell-2b4cf5196683fef0",
     "locked": true,
     "points": 0,
     "schema_version": 3,
     "solution": false,
     "task": false
    },
    "tags": []
   },
   "outputs": [],
   "source": []
  }
 ],
 "metadata": {
  "kernelspec": {
   "display_name": "C",
   "language": "c",
   "name": "c"
  },
  "language_info": {
   "file_extension": ".c",
   "mimetype": "text/x-csrc",
   "name": "text/x-csrc"
  }
 },
 "nbformat": 4,
 "nbformat_minor": 5
}
